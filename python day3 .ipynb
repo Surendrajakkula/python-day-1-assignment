{
 "cells": [
  {
   "cell_type": "code",
   "execution_count": 12,
   "metadata": {},
   "outputs": [
    {
     "name": "stdout",
     "output_type": "stream",
     "text": [
      "enter altitude500\n",
      "safe to land\n"
     ]
    }
   ],
   "source": [
    "num=input(\"enter altitude\")\n",
    "num=int(num)\n",
    "\n",
    "  \n",
    "if(num<=1000):\n",
    "                 print(\"safe to land\")\n",
    "elif(num>1000 and num<5000):\n",
    "    \n",
    "                   print(\"bring down to 1000\")\n",
    "else:\n",
    "                   print(\"turn around\")\n",
    "\n"
   ]
  },
  {
   "cell_type": "code",
   "execution_count": 13,
   "metadata": {},
   "outputs": [
    {
     "name": "stdout",
     "output_type": "stream",
     "text": [
      "enter altitude2000\n",
      "bring down to 1000\n"
     ]
    }
   ],
   "source": [
    "num=input(\"enter altitude\")\n",
    "num=int(num)\n",
    "\n",
    "  \n",
    "if(num<=1000):\n",
    "                 print(\"safe to land\")\n",
    "elif(num>1000 and num<5000):\n",
    "    \n",
    "                   print(\"bring down to 1000\")\n",
    "else:\n",
    "                   print(\"turn around\")\n",
    "\n"
   ]
  },
  {
   "cell_type": "code",
   "execution_count": 14,
   "metadata": {},
   "outputs": [
    {
     "name": "stdout",
     "output_type": "stream",
     "text": [
      "enter altitude10000\n",
      "turn around\n"
     ]
    }
   ],
   "source": [
    "num=input(\"enter altitude\")\n",
    "num=int(num)\n",
    "\n",
    "  \n",
    "if(num<=1000):\n",
    "                 print(\"safe to land\")\n",
    "elif(num>1000 and num<5000):\n",
    "    \n",
    "                   print(\"bring down to 1000\")\n",
    "else:\n",
    "                   print(\"turn around\")\n",
    "\n"
   ]
  },
  {
   "cell_type": "markdown",
   "metadata": {},
   "source": [
    "#prime numbers\n",
    "\n"
   ]
  },
  {
   "cell_type": "code",
   "execution_count": 17,
   "metadata": {},
   "outputs": [
    {
     "name": "stdout",
     "output_type": "stream",
     "text": [
      "prime numbers between 1 and 200 are:\n",
      "2\n",
      "3\n",
      "5\n",
      "7\n",
      "11\n",
      "13\n",
      "17\n",
      "19\n",
      "23\n",
      "29\n",
      "31\n",
      "37\n",
      "41\n",
      "43\n",
      "47\n",
      "53\n",
      "59\n",
      "61\n",
      "67\n",
      "71\n",
      "73\n",
      "79\n",
      "83\n",
      "89\n",
      "97\n",
      "101\n",
      "103\n",
      "107\n",
      "109\n",
      "113\n",
      "127\n",
      "131\n",
      "137\n",
      "139\n",
      "149\n",
      "151\n",
      "157\n",
      "163\n",
      "167\n",
      "173\n",
      "179\n",
      "181\n",
      "191\n",
      "193\n",
      "197\n",
      "199\n"
     ]
    }
   ],
   "source": [
    "lower=1\n",
    "upper=200\n",
    "print(\"prime numbers between\",lower,\"and\",upper,\"are:\")\n",
    "for num in range (lower,upper+1):\n",
    "    if num>1:\n",
    "        for i in range(2,num):\n",
    "            if (num%i)==0:\n",
    "                break\n",
    "        else:\n",
    "            print(num)\n",
    "    \n"
   ]
  },
  {
   "cell_type": "code",
   "execution_count": null,
   "metadata": {},
   "outputs": [],
   "source": [
    "\n",
    "\n",
    "\n"
   ]
  },
  {
   "cell_type": "code",
   "execution_count": null,
   "metadata": {},
   "outputs": [],
   "source": [
    "\n",
    "\n"
   ]
  },
  {
   "cell_type": "code",
   "execution_count": null,
   "metadata": {},
   "outputs": [],
   "source": []
  }
 ],
 "metadata": {
  "kernelspec": {
   "display_name": "Python 3",
   "language": "python",
   "name": "python3"
  },
  "language_info": {
   "codemirror_mode": {
    "name": "ipython",
    "version": 3
   },
   "file_extension": ".py",
   "mimetype": "text/x-python",
   "name": "python",
   "nbconvert_exporter": "python",
   "pygments_lexer": "ipython3",
   "version": "3.8.3"
  }
 },
 "nbformat": 4,
 "nbformat_minor": 4
}
