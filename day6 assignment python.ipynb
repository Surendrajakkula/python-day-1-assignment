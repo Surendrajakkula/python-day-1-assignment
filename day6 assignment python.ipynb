{
 "cells": [
  {
   "cell_type": "code",
   "execution_count": 23,
   "metadata": {},
   "outputs": [
    {
     "ename": "SyntaxError",
     "evalue": "EOL while scanning string literal (<ipython-input-23-86d35934997b>, line 6)",
     "output_type": "error",
     "traceback": [
      "\u001b[1;36m  File \u001b[1;32m\"<ipython-input-23-86d35934997b>\"\u001b[1;36m, line \u001b[1;32m6\u001b[0m\n\u001b[1;33m    return \"Accountowner\u001b[0m\n\u001b[1;37m                        ^\u001b[0m\n\u001b[1;31mSyntaxError\u001b[0m\u001b[1;31m:\u001b[0m EOL while scanning string literal\n"
     ]
    }
   ],
   "source": [
    "class Account:\n",
    "    def __init__(self,owner,balance):\n",
    "        self.owner=owner\n",
    "        self.balance=balance\n",
    "    def __str__(self):\n",
    "        return \"Account owner\n",
    "            {owner}\\nAccount balance:\n",
    "            ${balance}\".format(owner\n",
    "            =self.owner,balance=self.balance)\n",
    "    def deposit(self,dp_money):\n",
    "        self.balance+=dp_money\n",
    "        print(\"deposit accepted,your balance is {balance}\".format\n",
    "             (balance=self.balance))\n",
    "    def withdraw(self,wd_money):\n",
    "        if wd_ money>self.balance:\n",
    "            print(\"funds unavailable!\")\n",
    "        else:\n",
    "            self.balance-=wd_money\n",
    "            print(\"withdrawl accepted,your balance is {balance}\".format\n",
    "                  (balance=self.balance))\n",
    "acct1=account (\"jose\",100)\n",
    "print(acct1)\n",
    "acct1.deposit(50)\n",
    "acct1.withdraw(75)\n",
    "acct1.withdraw(500)\n",
    "        "
   ]
  },
  {
   "cell_type": "code",
   "execution_count": 10,
   "metadata": {},
   "outputs": [],
   "source": [
    "# volume and surface area of cone\n"
   ]
  },
  {
   "cell_type": "code",
   "execution_count": 16,
   "metadata": {},
   "outputs": [
    {
     "name": "stdout",
     "output_type": "stream",
     "text": [
      "volume of cone: 314.15926535897927\n",
      "surfacearea of cone: 282.7433388230814\n"
     ]
    }
   ],
   "source": [
    "import math\n",
    "pi=math.pi\n",
    "def volume(r,h):\n",
    "    return(1/3)*pi*r*r*h\n",
    "def surfacearea(r,s):\n",
    "    return pi*r*s+pi*r*r\n",
    "radius=float(5)\n",
    "height=float(12)\n",
    "slat_height=float(13)\n",
    "print(\"volume of cone:\",volume(radius,height))\n",
    "print(\"surfacearea of cone:\",surfacearea(radius,slat_height))\n",
    "     \n"
   ]
  },
  {
   "cell_type": "code",
   "execution_count": null,
   "metadata": {},
   "outputs": [],
   "source": []
  }
 ],
 "metadata": {
  "kernelspec": {
   "display_name": "Python 3",
   "language": "python",
   "name": "python3"
  },
  "language_info": {
   "codemirror_mode": {
    "name": "ipython",
    "version": 3
   },
   "file_extension": ".py",
   "mimetype": "text/x-python",
   "name": "python",
   "nbconvert_exporter": "python",
   "pygments_lexer": "ipython3",
   "version": "3.8.3"
  }
 },
 "nbformat": 4,
 "nbformat_minor": 4
}
